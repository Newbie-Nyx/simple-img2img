{
  "nbformat": 4,
  "nbformat_minor": 0,
  "metadata": {
    "colab": {
      "provenance": [],
      "collapsed_sections": [],
      "toc_visible": true,
      "authorship_tag": "ABX9TyPxYqCK5FyXethwL+d8JPK+",
      "include_colab_link": true
    },
    "kernelspec": {
      "name": "python3",
      "display_name": "Python 3"
    },
    "language_info": {
      "name": "python"
    },
    "accelerator": "GPU",
    "gpuClass": "standard"
  },
  "cells": [
    {
      "cell_type": "markdown",
      "metadata": {
        "id": "view-in-github",
        "colab_type": "text"
      },
      "source": [
        "<a href=\"https://colab.research.google.com/github/Newbie-Nyx/simple-img2img/blob/main/%E3%82%B7%E3%83%B3%E3%83%97%E3%83%AB%E3%81%AAStable_diffusion.ipynb\" target=\"_parent\"><img src=\"https://colab.research.google.com/assets/colab-badge.svg\" alt=\"Open In Colab\"/></a>"
      ]
    },
    {
      "cell_type": "code",
      "source": [
        "!pip install -q diffusers==0.2.4\n",
        "!pip install -q transformers scipy ftfy\n",
        "!pip install -q \"ipywidgets>=7,<8\"\n",
        "\n",
        "#@markdown 右のURLに飛んでご自身のトークンを取得し、下に貼り付けてください。 (https://huggingface.co/settings/tokens)\n",
        "YOUR_TOKEN=\"\"#@param {type:\"string\"}\n",
        "#@markdown　一度張り付けた後にセーブ（Ctrl + s）すれば、２回目以降はURL先に飛ばなくても残っていると思います。なので、2回目以降は実行ボタンを押すだけで良いはずです\n",
        "\n",
        "import torch\n",
        "from diffusers import StableDiffusionPipeline\n",
        "from torch import autocast\n",
        "\n",
        "pipe = StableDiffusionPipeline.from_pretrained(\"CompVis/stable-diffusion-v1-4\", revision=\"fp16\", torch_dtype=torch.float16, use_auth_token=YOUR_TOKEN) \n",
        "pipe.to(\"cuda\")"
      ],
      "metadata": {
        "id": "WLVTwnvMu9GH"
      },
      "execution_count": null,
      "outputs": []
    },
    {
      "cell_type": "markdown",
      "source": [
        "# Stablle Diffusion"
      ],
      "metadata": {
        "id": "95ObssA6IO9W"
      }
    },
    {
      "cell_type": "code",
      "source": [
        "from google.colab import files        #@title Text to Image\n",
        "from torch.random import seed\n",
        "from torch import autocast \n",
        "from pathlib import Path\n",
        "import random\n",
        "import shutil\n",
        "import os\n",
        "#-----------------------------------------------------------------------------------------\n",
        "# NSFWの制限を外す\n",
        "pipe.safety_checker = lambda images, **kwargs: (images, False)\n",
        "#-----------------------------------------------------------------------------------------\n",
        "try:\n",
        "    shutil.rmtree('/A')               #フォルダAを消す\n",
        "    os.remove('/AIart.zip')           #zipファイルを消す\n",
        "except FileNotFoundError:\n",
        "    pass\n",
        "#-----------------------------------------------------------------------------------------\n",
        "path = '/A'                           #フォルダAを作成\n",
        "os.makedirs(path, exist_ok=True)\n",
        "#-----------------------------------------------------------------------------------------\n",
        "i = 50 #@param {type:\"slider\", min:1, max:50, step:1}\n",
        "for I in range(i):\n",
        "\n",
        "  x = random.randint(100000000, 999999999)\n",
        "  generator = torch.Generator(\"cuda\").manual_seed(x)\n",
        "\n",
        "  prompt = \"\"#@param {type:\"string\"}\n",
        "\n",
        "  with autocast(\"cuda\"):\n",
        "    height = 512 #@param {type:\"slider\", min:512, max:960, step:64}\n",
        "    width  = 768 #@param {type:\"slider\", min:512, max:960, step:64}\n",
        "    guidance_scale = 10#@param {type:\"slider\", min:1, max:20, step:0.1}\n",
        "    Step  = 50 #@param {type:\"slider\", min:1, max:250, step:1}\n",
        "    image = pipe(prompt, height, width, guidance_scale=7.5, num_inference_steps=Step, generator=generator)[\"sample\"][0]\n",
        "\n",
        "    image.save(f\"/A/{x}.png\")\n",
        "#-----------------------------------------------------------------------------------------\n",
        "if i == 1:\n",
        "  files.download(f\"/A/{x}.png\")\n",
        "else:\n",
        "  !zip -r /AIart.zip /A                   # フォルダAを zip 圧縮する\n",
        "\n",
        "  from google.colab import files          # 圧縮したzipファイルをダウンロードする\n",
        "  files.download(\"/AIart.zip\")\n",
        "\n",
        "#-----------------------------------------------------------------------------------------\n"
      ],
      "metadata": {
        "id": "tiXjDldpsYnF"
      },
      "execution_count": null,
      "outputs": []
    }
  ]
}