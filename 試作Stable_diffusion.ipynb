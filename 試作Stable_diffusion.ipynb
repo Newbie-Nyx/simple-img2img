{
  "nbformat": 4,
  "nbformat_minor": 0,
  "metadata": {
    "colab": {
      "provenance": [],
      "collapsed_sections": [],
      "authorship_tag": "ABX9TyNcrBOFPegQxU2GiLtz6BFk",
      "include_colab_link": true
    },
    "kernelspec": {
      "name": "python3",
      "display_name": "Python 3"
    },
    "language_info": {
      "name": "python"
    },
    "accelerator": "GPU",
    "gpuClass": "standard"
  },
  "cells": [
    {
      "cell_type": "markdown",
      "metadata": {
        "id": "view-in-github",
        "colab_type": "text"
      },
      "source": [
        "<a href=\"https://colab.research.google.com/github/Newbie-Nyx/simple-img2img/blob/main/%E8%A9%A6%E4%BD%9CStable_diffusion.ipynb\" target=\"_parent\"><img src=\"https://colab.research.google.com/assets/colab-badge.svg\" alt=\"Open In Colab\"/></a>"
      ]
    },
    {
      "cell_type": "code",
      "source": [
        "!pip install diffusers==0.2.4\n",
        "!pip install transformers scipy ftfy\n",
        "!pip install \"ipywidgets>=7,<8\"\n",
        "\n",
        "YOUR_TOKEN=\"\\u30C8\\u30FC\\u30AF\\u30F3\"#@param {type:\"string\"}\n",
        "\n",
        "import torch\n",
        "from diffusers import StableDiffusionPipeline\n",
        "from torch import autocast\n",
        "\n",
        "pipe = StableDiffusionPipeline.from_pretrained(\"CompVis/stable-diffusion-v1-4\", revision=\"fp16\", torch_dtype=torch.float16, use_auth_token=YOUR_TOKEN) \n",
        "pipe.to(\"cuda\")\n",
        "\n"
      ],
      "metadata": {
        "id": "WLVTwnvMu9GH"
      },
      "execution_count": null,
      "outputs": []
    },
    {
      "cell_type": "code",
      "source": [
        "from google.colab import files        #@title 複数枚出力するコード\n",
        "from torch.random import seed\n",
        "from torch import autocast \n",
        "from pathlib import Path\n",
        "import random\n",
        "import shutil\n",
        "import os\n",
        "#-----------------------------------------------------------------------------------------\n",
        "# NSFWの制限を外す\n",
        "pipe.safety_checker = lambda images, **kwargs: (images, False)\n",
        "#-----------------------------------------------------------------------------------------\n",
        "try:\n",
        "    shutil.rmtree('/A')               #フォルダAを消す\n",
        "    os.remove('/AIart.zip')           #zipファイルを消す\n",
        "except FileNotFoundError:\n",
        "    pass\n",
        "#-----------------------------------------------------------------------------------------\n",
        "path = '/A'                           #フォルダAを作成\n",
        "os.makedirs(path, exist_ok=True)\n",
        "#-----------------------------------------------------------------------------------------\n",
        "i = 1 #@param {type:\"slider\", min:1, max:50, step:1}\n",
        "for I in range(i):\n",
        "\n",
        "  x = random.randint(100000000, 999999999)\n",
        "  generator = torch.Generator(\"cuda\").manual_seed(x)\n",
        "\n",
        "  prompt = \"style of van gogh\"#@param {type:\"string\"}\n",
        "\n",
        "  with autocast(\"cuda\"):\n",
        "    height = 640 #@param {type:\"slider\", min:512, max:960, step:64}\n",
        "    width  = 512 #@param {type:\"slider\", min:512, max:960, step:64}\n",
        "    Step  = 5 #@param {type:\"slider\", min:1, max:100, step:1}\n",
        "    image = pipe(prompt, height, width, num_inference_steps=Step, generator=generator)[\"sample\"][0]\n",
        "\n",
        "    image.save(f\"/A/{x}.png\")\n",
        "#-----------------------------------------------------------------------------------------\n",
        "if i == 1:\n",
        "  files.download(f\"/A/{x}.png\")\n",
        "else:\n",
        "  !zip -r /AIart.zip /A                   # フォルダAを zip 圧縮する\n",
        "\n",
        "  from google.colab import files          # 圧縮したzipファイルをダウンロードする\n",
        "  files.download(\"/AIart.zip\")\n",
        "\n",
        "#-----------------------------------------------------------------------------------------\n"
      ],
      "metadata": {
        "id": "tiXjDldpsYnF"
      },
      "execution_count": null,
      "outputs": []
    }
  ]
}