{
  "nbformat": 4,
  "nbformat_minor": 0,
  "metadata": {
    "colab": {
      "name": "img2img_test.ipynb",
      "provenance": [],
      "collapsed_sections": [],
      "include_colab_link": true
    },
    "kernelspec": {
      "name": "python3",
      "display_name": "Python 3"
    },
    "language_info": {
      "name": "python"
    },
    "accelerator": "GPU",
    "gpuClass": "standard"
  },
  "cells": [
    {
      "cell_type": "markdown",
      "metadata": {
        "id": "view-in-github",
        "colab_type": "text"
      },
      "source": [
        "<a href=\"https://colab.research.google.com/github/Newbie-Nyx/simple-img2img/blob/main/img2img_test.ipynb\" target=\"_parent\"><img src=\"https://colab.research.google.com/assets/colab-badge.svg\" alt=\"Open In Colab\"/></a>"
      ]
    },
    {
      "cell_type": "markdown",
      "source": [
        "#注意！このノートはhuggingfaceのトークンを持っているという前提で書いています。\n",
        "#分かりにくいところだらけですが試作品に等しいものなのでご容赦ください。"
      ],
      "metadata": {
        "id": "Kf7TtvLGhnMj"
      }
    },
    {
      "cell_type": "code",
      "source": [
        "#@title 手順1/3　トークンをコピペした後に実行ボタンをクリック\n",
        "!pip install transformers scipy ftfy\n",
        "!pip install git+https://github.com/huggingface/diffusers.git\n",
        "#@title 手順2/4　トークンをコピぺして実行ボタンをクリック\n",
        "#@markdown 右のURLに飛んでトークンを取得し、下に貼り付けてください。 (https://huggingface.co/settings/tokens)\n",
        "YOUR_TOKEN=\"トークン\"#@param {type:\"string\"}\n",
        "#@markdown　一度張り付けた後にセーブすれば、２回目以降はURL先に飛ばなくても残っていると思います。\n",
        "import torch\n",
        "from diffusers import StableDiffusionImg2ImgPipeline\n",
        "\n",
        "# パイプラインの準備\n",
        "pipe = StableDiffusionImg2ImgPipeline.from_pretrained(\n",
        "    \"CompVis/stable-diffusion-v1-4\",\n",
        "    revision=\"fp16\", \n",
        "    torch_dtype=torch.float16,\n",
        "    use_auth_token=YOUR_TOKEN\n",
        ").to(\"cuda\")"
      ],
      "metadata": {
        "id": "pUeK7mUKZAGC"
      },
      "execution_count": null,
      "outputs": []
    },
    {
      "cell_type": "code",
      "source": [
        "#@title 手順2/3　実行ボタンをクリックし、画像をアップロード\n",
        "import os\n",
        "from google.colab import files\n",
        "\n",
        "uploaded = files.upload()\n",
        "uploaded = list(uploaded.keys())\n",
        "assert len(uploaded) == 1\n"
      ],
      "metadata": {
        "id": "EexfHOAjZAVO"
      },
      "execution_count": null,
      "outputs": []
    },
    {
      "cell_type": "code",
      "source": [
        "#@title 手順3/3　実行ボタンをクリックし、img2imgを実行\n",
        "from google.colab import files        \n",
        "from torch.random import seed\n",
        "from torch import autocast \n",
        "from pathlib import Path\n",
        "from PIL import Image\n",
        "import random\n",
        "import shutil\n",
        "import os\n",
        "#-----------------------------------------------------------------------------------------\n",
        "try:\n",
        "    shutil.rmtree('/A')               #フォルダAを消す\n",
        "    os.remove('/AIart.zip')           #zipファイルを消す\n",
        "except FileNotFoundError:\n",
        "    pass\n",
        "#-----------------------------------------------------------------------------------------\n",
        "path = '/A'                           #フォルダAを作成\n",
        "os.makedirs(path, exist_ok=True)\n",
        "#-----------------------------------------------------------------------------------------\n",
        "#@markdown i : 出力したい枚数\n",
        "i = 1 #@param {type:\"slider\", min:1, max:50, step:1}\n",
        "\n",
        "for I in range(i):\n",
        "\n",
        "# 画像生成\n",
        "  prompt = \"style of Gogh\"#@param {type:\"string\"}\n",
        "  init_image = Image.open(uploaded[0]).convert(\"RGB\")\n",
        "  width  = 512 #@param {type:\"slider\", min:512, max:960, step:64}\n",
        "  height = 640 #@param {type:\"slider\", min:512, max:960, step:64}\n",
        "  init_image = init_image.resize((width, height))\n",
        "  #@markdown strengh : 0.00(ほとんど変化なし)~1.00(全然違う画像)\n",
        "  Strength = 0.667 #@param {type:\"slider\", min:0, max:1, step:0.001} \n",
        "  #@markdown step : step数が高い程書き込みが精緻になります。（正直50前後が安定です。）\n",
        "  Step  = 45 #@param {type:\"slider\", min:1, max:100, step:1}\n",
        "\n",
        "  with autocast(\"cuda\"):\n",
        "      images = pipe(\n",
        "          prompt=prompt, \n",
        "          init_image=init_image, \n",
        "          strength=Strength, \n",
        "          guidance_scale=7.5,\n",
        "          num_inference_steps=Step,\n",
        "          generator=None,\n",
        "          output_type=\"pil\",          \n",
        "          )[\"sample\"]\n",
        "  images[0].save(f\"/A/{I + 1}.png\")\n",
        "#-----------------------------------------------------------------------------------------\n",
        "if i == 1:\n",
        "  files.download(f\"/A/{I + 1}.png\")\n",
        "else:\n",
        "  !zip -r /AIart.zip /A                   # フォルダAを zip 圧縮する\n",
        "\n",
        "  from google.colab import files          # 圧縮したzipファイルをダウンロードする\n",
        "  files.download(\"/AIart.zip\")\n",
        "#-----------------------------------------------------------------------------------------"
      ],
      "metadata": {
        "id": "mopNX4THZHbX"
      },
      "execution_count": null,
      "outputs": []
    }
  ]
}